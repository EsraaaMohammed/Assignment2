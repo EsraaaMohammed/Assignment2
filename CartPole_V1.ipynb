{
  "nbformat": 4,
  "nbformat_minor": 0,
  "metadata": {
    "colab": {
      "provenance": [],
      "include_colab_link": true
    },
    "kernelspec": {
      "name": "python3",
      "display_name": "Python 3"
    },
    "language_info": {
      "name": "python"
    }
  },
  "cells": [
    {
      "cell_type": "markdown",
      "metadata": {
        "id": "view-in-github",
        "colab_type": "text"
      },
      "source": [
        "<a href=\"https://colab.research.google.com/github/EsraaaMohammed/Assignment2/blob/main/CartPole_V1.ipynb\" target=\"_parent\"><img src=\"https://colab.research.google.com/assets/colab-badge.svg\" alt=\"Open In Colab\"/></a>"
      ]
    },
    {
      "cell_type": "code",
      "execution_count": null,
      "metadata": {
        "colab": {
          "base_uri": "https://localhost:8080/"
        },
        "id": "IPlSpLi7E87r",
        "outputId": "e9931b50-555e-4081-baa9-ab24f29b00f0"
      },
      "outputs": [
        {
          "output_type": "stream",
          "name": "stdout",
          "text": [
            "\u001b[2K   \u001b[90m━━━━━━━━━━━━━━━━━━━━━━━━━━━━━━━━━━━━━━━━\u001b[0m \u001b[32m363.4/363.4 MB\u001b[0m \u001b[31m3.4 MB/s\u001b[0m eta \u001b[36m0:00:00\u001b[0m\n",
            "\u001b[2K   \u001b[90m━━━━━━━━━━━━━━━━━━━━━━━━━━━━━━━━━━━━━━━━\u001b[0m \u001b[32m13.8/13.8 MB\u001b[0m \u001b[31m37.3 MB/s\u001b[0m eta \u001b[36m0:00:00\u001b[0m\n",
            "\u001b[2K   \u001b[90m━━━━━━━━━━━━━━━━━━━━━━━━━━━━━━━━━━━━━━━━\u001b[0m \u001b[32m24.6/24.6 MB\u001b[0m \u001b[31m25.2 MB/s\u001b[0m eta \u001b[36m0:00:00\u001b[0m\n",
            "\u001b[2K   \u001b[90m━━━━━━━━━━━━━━━━━━━━━━━━━━━━━━━━━━━━━━━━\u001b[0m \u001b[32m883.7/883.7 kB\u001b[0m \u001b[31m33.0 MB/s\u001b[0m eta \u001b[36m0:00:00\u001b[0m\n",
            "\u001b[2K   \u001b[90m━━━━━━━━━━━━━━━━━━━━━━━━━━━━━━━━━━━━━━━━\u001b[0m \u001b[32m664.8/664.8 MB\u001b[0m \u001b[31m1.5 MB/s\u001b[0m eta \u001b[36m0:00:00\u001b[0m\n",
            "\u001b[2K   \u001b[90m━━━━━━━━━━━━━━━━━━━━━━━━━━━━━━━━━━━━━━━━\u001b[0m \u001b[32m211.5/211.5 MB\u001b[0m \u001b[31m4.9 MB/s\u001b[0m eta \u001b[36m0:00:00\u001b[0m\n",
            "\u001b[2K   \u001b[90m━━━━━━━━━━━━━━━━━━━━━━━━━━━━━━━━━━━━━━━━\u001b[0m \u001b[32m56.3/56.3 MB\u001b[0m \u001b[31m12.7 MB/s\u001b[0m eta \u001b[36m0:00:00\u001b[0m\n",
            "\u001b[2K   \u001b[90m━━━━━━━━━━━━━━━━━━━━━━━━━━━━━━━━━━━━━━━━\u001b[0m \u001b[32m127.9/127.9 MB\u001b[0m \u001b[31m7.3 MB/s\u001b[0m eta \u001b[36m0:00:00\u001b[0m\n",
            "\u001b[2K   \u001b[90m━━━━━━━━━━━━━━━━━━━━━━━━━━━━━━━━━━━━━━━━\u001b[0m \u001b[32m207.5/207.5 MB\u001b[0m \u001b[31m5.6 MB/s\u001b[0m eta \u001b[36m0:00:00\u001b[0m\n",
            "\u001b[2K   \u001b[90m━━━━━━━━━━━━━━━━━━━━━━━━━━━━━━━━━━━━━━━━\u001b[0m \u001b[32m21.1/21.1 MB\u001b[0m \u001b[31m79.5 MB/s\u001b[0m eta \u001b[36m0:00:00\u001b[0m\n",
            "\u001b[2K   \u001b[90m━━━━━━━━━━━━━━━━━━━━━━━━━━━━━━━━━━━━━━━━\u001b[0m \u001b[32m184.5/184.5 kB\u001b[0m \u001b[31m15.2 MB/s\u001b[0m eta \u001b[36m0:00:00\u001b[0m\n",
            "\u001b[?25h"
          ]
        }
      ],
      "source": [
        "!pip install -q stable-baselines3[extra] gym matplotlib numpy"
      ]
    },
    {
      "cell_type": "code",
      "source": [
        "# Compatibility fix for newer numpy + gymnasium versions\n",
        "import numpy as np\n",
        "if not hasattr(np, 'bool8'):\n",
        "    np.bool8 = np.bool_\n",
        "\n",
        "import gym\n",
        "import matplotlib.pyplot as plt\n",
        "from stable_baselines3 import DQN\n",
        "from stable_baselines3.common.env_util import make_vec_env\n",
        "\n",
        "# Custom evaluation function (handles Gymnasium changes)\n",
        "def evaluate_model(model, env, num_episodes=10):\n",
        "    rewards = []\n",
        "    for _ in range(num_episodes):\n",
        "        result = env.reset()\n",
        "        obs = result[0] if isinstance(result, tuple) else result\n",
        "        done = False\n",
        "        total_reward = 0\n",
        "        while not done:\n",
        "            action, _ = model.predict(obs, deterministic=True)\n",
        "            result = env.step(action)\n",
        "            if len(result) == 5:\n",
        "                obs, reward, terminated, truncated, _ = result\n",
        "                done = terminated or truncated\n",
        "            else:\n",
        "                obs, reward, done, _ = result\n",
        "            total_reward += reward\n",
        "        rewards.append(total_reward)\n",
        "    return np.mean(rewards), np.std(rewards)\n",
        "\n",
        "    # Configuration\n",
        "env_id = \"CartPole-v1\"\n",
        "timesteps_list = [1000, 5000, 10000, 20000, 50000]\n",
        "mean_rewards = []\n",
        "std_rewards = []\n",
        "\n",
        "# Train and evaluate models\n",
        "for t in timesteps_list:\n",
        "    print(f\"\\nTraining model with {t} timesteps...\")\n",
        "    env = make_vec_env(env_id, n_envs=1)\n",
        "    model = DQN(\"MlpPolicy\", env, verbose=0)\n",
        "    model.learn(total_timesteps=t)\n",
        "\n",
        "    eval_env = gym.make(env_id, render_mode=None)\n",
        "    mean_reward, std_reward = evaluate_model(model, eval_env)\n",
        "    mean_rewards.append(mean_reward)\n",
        "    std_rewards.append(std_reward)\n",
        "\n",
        "    print(f\"Timesteps: {t} | Mean reward: {mean_reward:.2f}, Std: {std_reward:.2f}\")\n",
        "\n",
        "    #Plot performance\n",
        "plt.figure(figsize=(10, 6))\n",
        "plt.plot(timesteps_list, mean_rewards, marker='o', label=\"Mean Reward\")\n",
        "plt.fill_between(timesteps_list,\n",
        "                 np.array(mean_rewards) - np.array(std_rewards),\n",
        "                 np.array(mean_rewards) + np.array(std_rewards),\n",
        "                 alpha=0.2, label=\"±1 Std Dev\")\n",
        "plt.xlabel(\"Total Timesteps\")\n",
        "plt.ylabel(\"Mean Reward over 10 Episodes\")\n",
        "plt.title(\"CartPole-v1: Total Timesteps vs. Mean Reward\")\n",
        "plt.grid(True)\n",
        "plt.legend()\n",
        "plt.show()"
      ],
      "metadata": {
        "id": "XeutWVcEFCk4"
      },
      "execution_count": null,
      "outputs": []
    }
  ]
}